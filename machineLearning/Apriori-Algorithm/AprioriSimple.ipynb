{
 "cells": [
  {
   "cell_type": "code",
   "execution_count": 1,
   "metadata": {},
   "outputs": [
    {
     "name": "stdout",
     "output_type": "stream",
     "text": [
      "{'apple&pinapple': 2, 'apple&melon': 2, 'apple&cherry': 2, 'pinapple&cherry': 2, 'melon&cherry': 2}\n",
      "{'apple&melon&cherry': 2}\n"
     ]
    }
   ],
   "source": [
    "import numpy as np\n",
    "\n",
    "\n",
    "class Apriori():\n",
    "    def __init__(self, data):\n",
    "        self.data = data\n",
    "        self.treshold = 1 / 2 * len(data[next(iter(data))])\n",
    "\n",
    "    def apriory(self, data):\n",
    "        return self.isRepresentSameThing(self.selectSignificent(self.itemSet(data)))\n",
    "\n",
    "    def frequency(self, data):\n",
    "        frequency = {}\n",
    "        for key in data:\n",
    "            frequency[key] = (sum(data[key]))\n",
    "\n",
    "        return frequency\n",
    "\n",
    "    def selectSignificent(self, data):\n",
    "        # frequency = self.frequency(data)\n",
    "        temp = {}\n",
    "        for key in data:\n",
    "\n",
    "            if data[key] >= self.treshold:\n",
    "                temp[key] = data[key]\n",
    "\n",
    "        data = temp\n",
    "        return data\n",
    "\n",
    "    def itemSet(self, data):\n",
    "        temp = {}\n",
    "        for k in data:\n",
    "            for l in data:\n",
    "                if k != l:\n",
    "                    # print(k, data[k], l, data[l])\n",
    "                    # temp[k + '&' + l] = temp.get(k + '&' + l, 0) + 1\n",
    "                    isContinue = True\n",
    "                    if k + '&' + l.split('&')[-1] in data:\n",
    "                        isContinue = False\n",
    "                    if l.split('&')[-1] + '&' + k in data:\n",
    "                        isContinue = False\n",
    "                    for s in range(len(k.split('&')) - 1):\n",
    "                        if k.split('&')[s] != l.split('&')[s]:\n",
    "                            isContinue = False\n",
    "                    if isContinue:\n",
    "                        temp[k + '&' + l.split('&')[-1]] = int(sum(self.search(*k.split('&'), *l.split('&'))))\n",
    "        return self.selectSignificent(temp)\n",
    "        # return temp\n",
    "\n",
    "    def isRepresentSameThing(self, data):\n",
    "        temp = {}\n",
    "        for key in data:\n",
    "            isContinue = True\n",
    "            tempSum = sum(bytearray(key.encode('utf8')))\n",
    "            for l in temp:\n",
    "                if sum(bytearray(l.encode('utf8'))) == tempSum:\n",
    "                    isContinue = False\n",
    "            if isContinue:\n",
    "                temp[key] = data[key]\n",
    "\n",
    "        return temp\n",
    "\n",
    "    def listXor(self, list1, list2):\n",
    "        temp = np.zeros(len(list1))\n",
    "        for i in range(len(list1)):\n",
    "            if (list1[i] == list2[i]) and list1[i] == 1:\n",
    "                temp[i] = 1\n",
    "\n",
    "        return temp\n",
    "\n",
    "    def search(self, *args):\n",
    "        temp = np.ones(len(self.data[next(iter(self.data))]))\n",
    "        for key in args:\n",
    "            temp = self.listXor(self.data[key], temp)\n",
    "        return temp\n",
    "\n",
    "\n",
    "if __name__ == '__main__':\n",
    "    testData = {\n",
    "        'apple': [1, 1, 0, 1],\n",
    "        'pinapple': [0, 1, 1, 1],\n",
    "        'pair': [0, 0, 0, 1],\n",
    "        'melon': [1, 0, 0, 1],\n",
    "        'cherry': [1, 0, 1, 1]\n",
    "    }\n",
    "    test = Apriori(testData)\n",
    "    print(test.apriory(testData))\n",
    "    print(test.apriory(test.apriory(testData)))"
   ]
  },
  {
   "cell_type": "code",
   "execution_count": 5,
   "metadata": {},
   "outputs": [
    {
     "name": "stdout",
     "output_type": "stream",
     "text": [
      "Requirement already satisfied: efficient-apriori in /home/rahul/.local/lib/python3.6/site-packages (0.4.5)\n",
      "\u001b[33mYou are using pip version 19.0.2, however version 19.0.3 is available.\n",
      "You should consider upgrading via the 'pip install --upgrade pip' command.\u001b[0m\n",
      "Collecting pip\n",
      "  Using cached https://files.pythonhosted.org/packages/d8/f3/413bab4ff08e1fc4828dfc59996d721917df8e8583ea85385d51125dceff/pip-19.0.3-py2.py3-none-any.whl\n",
      "Installing collected packages: pip\n",
      "  Found existing installation: pip 19.0.2\n",
      "    Uninstalling pip-19.0.2:\n",
      "      Successfully uninstalled pip-19.0.2\n",
      "Successfully installed pip-19.0.3\n"
     ]
    }
   ],
   "source": [
    "!pip install efficient-apriori --user\n",
    "!pip install --upgrade pip --user"
   ]
  },
  {
   "cell_type": "code",
   "execution_count": 6,
   "metadata": {},
   "outputs": [
    {
     "name": "stdout",
     "output_type": "stream",
     "text": [
      "{apple, eggs} -> {bacon} (conf: 1.000, supp: 0.333, lift: 1.000, conv: 0.000)\n",
      "{banana, soup} -> {bacon} (conf: 1.000, supp: 0.333, lift: 1.000, conv: 0.000)\n",
      "{eggs, soup} -> {bacon} (conf: 1.000, supp: 0.333, lift: 1.000, conv: 0.000)\n",
      "{apple, bacon} -> {eggs} (conf: 1.000, supp: 0.333, lift: 1.500, conv: 333333333.333)\n",
      "{bacon, banana} -> {soup} (conf: 1.000, supp: 0.333, lift: 1.500, conv: 333333333.333)\n"
     ]
    }
   ],
   "source": [
    "from efficient_apriori import apriori\n",
    "transactions = [('eggs', 'bacon', 'soup'),\n",
    "                ('eggs', 'bacon', 'apple'),\n",
    "                ('soup', 'bacon', 'banana')]\n",
    "itemsets, rules = apriori(transactions, min_support=0.2,  min_confidence=1)\n",
    "\n",
    "# Print out every rule with 2 items on the left hand side,\n",
    "# 1 item on the right hand side, sorted by lift\n",
    "rules_rhs = filter(lambda rule: len(rule.lhs) == 2 and len(rule.rhs) == 1, rules)\n",
    "for rule in sorted(rules_rhs, key=lambda rule: rule.lift):\n",
    "  print(rule) # Prints the rule and its confidence, support, lift, ..."
   ]
  },
  {
   "cell_type": "code",
   "execution_count": 7,
   "metadata": {},
   "outputs": [
    {
     "ename": "FileNotFoundError",
     "evalue": "[Errno 2] No such file or directory: 'dataset.csv'",
     "output_type": "error",
     "traceback": [
      "\u001b[0;31m---------------------------------------------------------------------------\u001b[0m",
      "\u001b[0;31mFileNotFoundError\u001b[0m                         Traceback (most recent call last)",
      "\u001b[0;32m<ipython-input-7-cf757c1540e1>\u001b[0m in \u001b[0;36m<module>\u001b[0;34m()\u001b[0m\n\u001b[1;32m     12\u001b[0m \u001b[0;34m\u001b[0m\u001b[0m\n\u001b[1;32m     13\u001b[0m \u001b[0mtransactions\u001b[0m \u001b[0;34m=\u001b[0m \u001b[0mdata_generator\u001b[0m\u001b[0;34m(\u001b[0m\u001b[0;34m'dataset.csv'\u001b[0m\u001b[0;34m)\u001b[0m\u001b[0;34m\u001b[0m\u001b[0;34m\u001b[0m\u001b[0m\n\u001b[0;32m---> 14\u001b[0;31m \u001b[0mitemsets\u001b[0m\u001b[0;34m,\u001b[0m \u001b[0mrules\u001b[0m \u001b[0;34m=\u001b[0m \u001b[0mapriori\u001b[0m\u001b[0;34m(\u001b[0m\u001b[0mtransactions\u001b[0m\u001b[0;34m,\u001b[0m \u001b[0mmin_support\u001b[0m\u001b[0;34m=\u001b[0m\u001b[0;36m0.9\u001b[0m\u001b[0;34m,\u001b[0m \u001b[0mmin_confidence\u001b[0m\u001b[0;34m=\u001b[0m\u001b[0;36m0.6\u001b[0m\u001b[0;34m)\u001b[0m\u001b[0;34m\u001b[0m\u001b[0;34m\u001b[0m\u001b[0m\n\u001b[0m",
      "\u001b[0;32m/home/rahul/.local/lib/python3.6/site-packages/efficient_apriori/apriori.py\u001b[0m in \u001b[0;36mapriori\u001b[0;34m(transactions, min_support, min_confidence, max_length, verbosity)\u001b[0m\n\u001b[1;32m     51\u001b[0m     \"\"\"\n\u001b[1;32m     52\u001b[0m     itemsets, num_trans = itemsets_from_transactions(transactions, min_support, \n\u001b[0;32m---> 53\u001b[0;31m                                                      max_length, verbosity)\n\u001b[0m\u001b[1;32m     54\u001b[0m     rules = generate_rules_apriori(itemsets, min_confidence, num_trans, \n\u001b[1;32m     55\u001b[0m                                    verbosity)\n",
      "\u001b[0;32m/home/rahul/.local/lib/python3.6/site-packages/efficient_apriori/itemsets.py\u001b[0m in \u001b[0;36mitemsets_from_transactions\u001b[0;34m(transactions, min_support, max_length, verbosity)\u001b[0m\n\u001b[1;32m    227\u001b[0m     \u001b[0mcounts\u001b[0m \u001b[0;34m=\u001b[0m \u001b[0mcollections\u001b[0m\u001b[0;34m.\u001b[0m\u001b[0mdefaultdict\u001b[0m\u001b[0;34m(\u001b[0m\u001b[0mint\u001b[0m\u001b[0;34m)\u001b[0m\u001b[0;34m\u001b[0m\u001b[0;34m\u001b[0m\u001b[0m\n\u001b[1;32m    228\u001b[0m     \u001b[0mnum_transactions\u001b[0m \u001b[0;34m=\u001b[0m \u001b[0;36m0\u001b[0m\u001b[0;34m\u001b[0m\u001b[0;34m\u001b[0m\u001b[0m\n\u001b[0;32m--> 229\u001b[0;31m     \u001b[0;32mfor\u001b[0m \u001b[0mtransaction\u001b[0m \u001b[0;32min\u001b[0m \u001b[0mtransactions\u001b[0m\u001b[0;34m(\u001b[0m\u001b[0;34m)\u001b[0m\u001b[0;34m:\u001b[0m\u001b[0;34m\u001b[0m\u001b[0;34m\u001b[0m\u001b[0m\n\u001b[0m\u001b[1;32m    230\u001b[0m         \u001b[0mnum_transactions\u001b[0m \u001b[0;34m+=\u001b[0m \u001b[0;36m1\u001b[0m  \u001b[0;31m# Increment counter for transactions\u001b[0m\u001b[0;34m\u001b[0m\u001b[0;34m\u001b[0m\u001b[0m\n\u001b[1;32m    231\u001b[0m         \u001b[0;32mfor\u001b[0m \u001b[0mitem\u001b[0m \u001b[0;32min\u001b[0m \u001b[0mtransaction\u001b[0m\u001b[0;34m:\u001b[0m\u001b[0;34m\u001b[0m\u001b[0;34m\u001b[0m\u001b[0m\n",
      "\u001b[0;32m<ipython-input-7-cf757c1540e1>\u001b[0m in \u001b[0;36mdata_gen\u001b[0;34m()\u001b[0m\n\u001b[1;32m      5\u001b[0m   \"\"\"\n\u001b[1;32m      6\u001b[0m   \u001b[0;32mdef\u001b[0m \u001b[0mdata_gen\u001b[0m\u001b[0;34m(\u001b[0m\u001b[0;34m)\u001b[0m\u001b[0;34m:\u001b[0m\u001b[0;34m\u001b[0m\u001b[0;34m\u001b[0m\u001b[0m\n\u001b[0;32m----> 7\u001b[0;31m     \u001b[0;32mwith\u001b[0m \u001b[0mopen\u001b[0m\u001b[0;34m(\u001b[0m\u001b[0mfilename\u001b[0m\u001b[0;34m)\u001b[0m \u001b[0;32mas\u001b[0m \u001b[0mfile\u001b[0m\u001b[0;34m:\u001b[0m\u001b[0;34m\u001b[0m\u001b[0;34m\u001b[0m\u001b[0m\n\u001b[0m\u001b[1;32m      8\u001b[0m       \u001b[0;32mfor\u001b[0m \u001b[0mline\u001b[0m \u001b[0;32min\u001b[0m \u001b[0mfile\u001b[0m\u001b[0;34m:\u001b[0m\u001b[0;34m\u001b[0m\u001b[0;34m\u001b[0m\u001b[0m\n\u001b[1;32m      9\u001b[0m         \u001b[0;32myield\u001b[0m \u001b[0mtuple\u001b[0m\u001b[0;34m(\u001b[0m\u001b[0mk\u001b[0m\u001b[0;34m.\u001b[0m\u001b[0mstrip\u001b[0m\u001b[0;34m(\u001b[0m\u001b[0;34m)\u001b[0m \u001b[0;32mfor\u001b[0m \u001b[0mk\u001b[0m \u001b[0;32min\u001b[0m \u001b[0mline\u001b[0m\u001b[0;34m.\u001b[0m\u001b[0msplit\u001b[0m\u001b[0;34m(\u001b[0m\u001b[0;34m','\u001b[0m\u001b[0;34m)\u001b[0m\u001b[0;34m)\u001b[0m\u001b[0;34m\u001b[0m\u001b[0;34m\u001b[0m\u001b[0m\n",
      "\u001b[0;31mFileNotFoundError\u001b[0m: [Errno 2] No such file or directory: 'dataset.csv'"
     ]
    }
   ],
   "source": [
    "from efficient_apriori import apriori\n",
    "def data_generator(filename):\n",
    "  \"\"\"\n",
    "  Data generator, needs to return a generator to be called several times.\n",
    "  \"\"\"\n",
    "  def data_gen():\n",
    "    with open(filename) as file:\n",
    "      for line in file:\n",
    "        yield tuple(k.strip() for k in line.split(','))      \n",
    "\n",
    "  return data_gen\n",
    "\n",
    "transactions = data_generator('dataset.csv')\n",
    "itemsets, rules = apriori(transactions, min_support=0.9, min_confidence=0.6)"
   ]
  },
  {
   "cell_type": "code",
   "execution_count": null,
   "metadata": {},
   "outputs": [],
   "source": []
  }
 ],
 "metadata": {
  "kernelspec": {
   "display_name": "Python 3",
   "language": "python",
   "name": "python3"
  },
  "language_info": {
   "codemirror_mode": {
    "name": "ipython",
    "version": 3
   },
   "file_extension": ".py",
   "mimetype": "text/x-python",
   "name": "python",
   "nbconvert_exporter": "python",
   "pygments_lexer": "ipython3",
   "version": "3.6.7"
  }
 },
 "nbformat": 4,
 "nbformat_minor": 2
}
