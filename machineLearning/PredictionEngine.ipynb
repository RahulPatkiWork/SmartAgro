{
  "nbformat": 4,
  "nbformat_minor": 0,
  "metadata": {
    "colab": {
      "name": "PredictionEngine.ipynb",
      "version": "0.3.2",
      "provenance": [],
      "collapsed_sections": []
    },
    "kernelspec": {
      "name": "python3",
      "display_name": "Python 3"
    }
  },
  "cells": [
    {
      "metadata": {
        "id": "zSuzH1gZpPYO",
        "colab_type": "text"
      },
      "cell_type": "markdown",
      "source": [
        "# Optimal Crop Price Prediction \n",
        "\n",
        "\n",
        "---\n",
        "इष्टतम फसल मूल्य भविष्यवाणी\n",
        "\n",
        "\n",
        "---\n",
        "\n",
        "\n"
      ]
    },
    {
      "metadata": {
        "id": "Lw8FCrI5dQ1_",
        "colab_type": "code",
        "cellView": "form",
        "outputId": "f619b751-20bc-44ea-c743-e0eea5c01b83",
        "colab": {
          "base_uri": "https://localhost:8080/",
          "height": 59
        }
      },
      "cell_type": "code",
      "source": [
        "#@title Procedure (प्रक्रिया)\n",
        "%%html\n",
        "<marquee style='width: 100%; color: red;'><b>Login to your Gmail Account then Click the left button given below to load all input files and then select the crop,month and year for which you want to predict the price</b></marquee>\n",
        "<div>\n",
        "<marquee style='width: 100%; color: red;'><b>अपने Gmail खाते में लॉगिन करें और फिर सभी इनपुट फ़ाइलों को लोड करने के लिए नीचे दिए गए बाएं बटन पर क्लिक करें और फिर उस फसल, महीने और वर्ष का चयन करें जिसके लिए आप कीमत का अनुमान लगाना चाहते हैं</b></marquee>\n",
        "</div>"
      ],
      "execution_count": 0,
      "outputs": [
        {
          "output_type": "display_data",
          "data": {
            "text/html": [
              "<marquee style='width: 100%; color: red;'><b>Login to your Gmail Account then Click the left button given below to load all input files and then select the crop,month and year for which you want to predict the price</b></marquee>\n",
              "<div>\n",
              "<marquee style='width: 100%; color: red;'><b>अपने Gmail खाते में लॉगिन करें और फिर सभी इनपुट फ़ाइलों को लोड करने के लिए नीचे दिए गए बाएं बटन पर क्लिक करें और फिर उस फसल, महीने और वर्ष का चयन करें जिसके लिए आप कीमत का अनुमान लगाना चाहते हैं</b></marquee>\n",
              "</div>"
            ],
            "text/plain": [
              "<IPython.core.display.HTML object>"
            ]
          },
          "metadata": {
            "tags": []
          }
        }
      ]
    },
    {
      "metadata": {
        "colab_type": "code",
        "cellView": "form",
        "id": "5H0sWXe8Jn-Q",
        "colab": {}
      },
      "cell_type": "code",
      "source": [
        "\n",
        "#@markdown **Click the left button to load all required input files and enter 'A' if prompted **\n",
        "#@markdown *सभी आवश्यक इनपुट फ़ाइलों को लोड करने के लिए बाएं बटन पर क्लिक करें और यदि संकेत दिया जाए तो 'ए' दर्ज करें*\n",
        "#to download the required input files&images served remotely\n",
        "%%capture\n",
        "!pip install gdown;\n",
        "!gdown https://drive.google.com/uc?id=1ymojrXO_Xa2ny2mDCulch0Uov_ttz6g8;\n",
        "!unzip -j CSVFiles.zip\n",
        "\n",
        "'''\n",
        "USE uc instead of open;\n",
        "In gdrive share link with anyone can VIEW\n",
        "'''\n",
        "\n"
      ],
      "execution_count": 0,
      "outputs": []
    },
    {
      "metadata": {
        "colab_type": "text",
        "id": "Iu5Ur0FVP-q1"
      },
      "cell_type": "markdown",
      "source": [
        "# Select the inputs for price prediction\n",
        "\n",
        "---\n",
        "\n",
        "\n",
        " फसल, महीने और वर्ष का चयन करें, जिसके लिए आप कीमत का अनुमान लगाना चाहते हैं\n",
        "\n",
        "---\n",
        "\n"
      ]
    },
    {
      "metadata": {
        "id": "v5syAv8v2fdY",
        "colab_type": "code",
        "cellView": "form",
        "outputId": "7cb2b82d-ff0d-4478-a294-4a69f7b31a8b",
        "colab": {
          "base_uri": "https://localhost:8080/",
          "height": 51
        }
      },
      "cell_type": "code",
      "source": [
        "#@title \n",
        "\n",
        "Crop = 'Bajra' #@param [\"Rice\", \"Wheat\", \"Jowar\",\"Bajra\",\"Potato\",\"Onion\",\"Ginger\",\"Brinjal\",\"Cabbage\",\"Banana\",\"Orange\",\"Papaya\"] \n",
        "Month = \"May\" #@param [\"Jan\", \"Feb\", \"Mar\", \"Apr\", \"May\", \"Jun\", \"Jul\", \"Aug\", \"Sep\", \"Oct\", \"Nov\", \"Dec\"] \n",
        "Year = \"2019\" #@param [\"2017\", \"2018\", \"2019\", \"2020\", \"2021\"]\n",
        "year=int(Year)\n",
        "pred=[]\n",
        "if Month==\"Jan\":\n",
        "\tpred=[year,1,0,0,0,0,0,0,0,0,0,0,0]\n",
        "elif Month==\"Feb\":\n",
        "\tpred=[year,0,1,0,0,0,0,0,0,0,0,0,0]\n",
        "elif Month==\"Mar\":\n",
        "\tpred=[year,0,0,1,0,0,0,0,0,0,0,0,0]\n",
        "elif Month==\"Apr\":\n",
        "\tpred=[year,0,0,0,1,0,0,0,0,0,0,0,0]\n",
        "elif Month==\"May\":\n",
        "\tpred=[year,0,0,0,0,1,0,0,0,0,0,0,0]\n",
        "elif Month==\"Jun\":\n",
        "\tpred=[year,0,0,0,0,0,1,0,0,0,0,0,0]\n",
        "elif Month==\"Jul\":\n",
        "\tpred=[year,0,0,0,0,0,0,1,0,0,0,0,0]\n",
        "elif Month==\"Aug\":\n",
        "\tpred=[year,0,0,0,0,0,0,0,1,0,0,0,0]\n",
        "elif Month==\"Sep\":\n",
        "\tpred=[year,0,0,0,0,0,0,0,0,1,0,0,0]\n",
        "elif Month==\"Oct\":\n",
        "\tpred=[year,0,0,0,0,0,0,0,0,0,1,0,0]\n",
        "elif Month==\"Nov\":\n",
        "\tpred=[year,0,0,0,0,0,0,0,0,0,0,1,0]\n",
        "elif Month==\"Dec\":\n",
        "\tpred=[year,0,0,0,0,0,0,0,0,0,0,0,1]\n",
        "else:\n",
        "\tpass\n",
        "\n",
        "\n",
        "import pandas as pd\n",
        "filename=str(Crop)+'.csv'\n",
        "#print(filename)\n",
        "features = pd.read_csv(filename)\n",
        "\n",
        "features = pd.get_dummies(features)\n",
        "\n",
        "\n",
        "import numpy as np\n",
        "labels = np.array(features[Crop])\n",
        "features= features.drop(Crop, axis = 1)\n",
        "feature_list = list(features.columns)\n",
        "features = np.array(features)\n",
        "\n",
        "# Using Skicit-learn to split data into training and testing sets\n",
        "from sklearn.model_selection import train_test_split\n",
        "\n",
        "\n",
        "\n",
        "\n",
        "from sklearn.linear_model import ElasticNet\n",
        "\n",
        "# Instantiate model with 1000 decision trees\n",
        "rf =ElasticNet(alpha=0.3)\n",
        "\n",
        "\n",
        "# Train the model on training data\n",
        "#rf.fit(train_features, train_labels)\n",
        "rf.fit(features, labels)\n",
        "\n",
        "\n",
        "predictions =rf.predict([pred])\n",
        "finalPrice = str(round(predictions[0],2))\n",
        "#print(predictions[0])\n",
        "print('Predicted Price for ' + str(Crop)  +'\\nin '+str(Month)+'/'+str(Year)+' is=' +finalPrice+' Rs/-')  \n",
        "\n",
        "\n",
        "\n",
        "\n",
        "\n",
        "\n",
        "\n",
        "\n",
        "\n",
        "\n",
        "\n",
        "\n",
        "\n"
      ],
      "execution_count": 0,
      "outputs": [
        {
          "output_type": "stream",
          "text": [
            "Predicted Price for Bajra\n",
            "in May/2019 is=331.81 Rs/-\n"
          ],
          "name": "stdout"
        }
      ]
    },
    {
      "metadata": {
        "id": "USoDBrcbZ6TU",
        "colab_type": "text"
      },
      "cell_type": "markdown",
      "source": [
        "# Select the crop,month & year for which you want to predict the price\n",
        "\n",
        "---\n",
        "\n",
        "\n",
        " फसल, महीने और वर्ष का चयन करें, जिसके लिए आप कीमत का अनुमान लगाना चाहते हैं\n",
        "\n",
        "---\n",
        "\n"
      ]
    },
    {
      "metadata": {
        "id": "Dvo8I1BALA4E",
        "colab_type": "code",
        "cellView": "form",
        "colab": {}
      },
      "cell_type": "code",
      "source": [
        "\n",
        "#@markdown **Click the left button to reload all required input files and enter 'A' if prompted **\n",
        "#@markdown *सभी आवश्यक इनपुट फ़ाइलों को पुनः लोड करने के लिए बाएं बटन पर क्लिक करें और यदि संकेत दिया जाए तो 'ए' दर्ज करें*\n",
        "#to download the required input files&images served remotely\n",
        "%%capture\n",
        "!pip install gdown;\n",
        "# #UploadFIles without latest nutrients area DS & unzip it directly\n",
        "# !gdown https://drive.google.com/uc?id=1a82nSzdZ4dfHfd6Vw_J2B_J3FgcDJh29;\n",
        "# !unzip -j UploadFiles.zip\n",
        "#Latest nutrientsarea1 & hidden unzip\n",
        "!gdown https://drive.google.com/uc?id=11xOMCPOpKxO2iaNCNtgLfk_S84Evy4Vf;\n",
        "!unzip -j DataSets.zip\n",
        "\n",
        "'''\n",
        "USE uc instead of open;\n",
        "In gdrive share link with anyone can VIEW\n",
        "'''\n",
        "\n"
      ],
      "execution_count": 0,
      "outputs": []
    },
    {
      "metadata": {
        "id": "VRT7RflCL8PV",
        "colab_type": "code",
        "cellView": "form",
        "outputId": "faa8c28a-3227-4c75-e897-73bcdf55a546",
        "colab": {
          "base_uri": "https://localhost:8080/",
          "height": 34
        }
      },
      "cell_type": "code",
      "source": [
        "\n",
        "Crop = 'Rice' #@param [\"Rice\", \"Wheat\", \"Jowar\",\"Bajra\",\"Potato\",\"Onion\",\"Ginger\",\"Brinjal\",\"Cabbage\",\"Banana\",\"Orange\",\"Papaya\"]\n",
        "Month = \"Feb\" #@param [\"Jan\", \"Feb\", \"Mar\", \"Apr\", \"May\", \"Jun\", \"Jul\", \"Aug\", \"Sep\", \"Oct\", \"Nov\", \"Dec\"] \n",
        "year = \"2017-18\" #@param [\"2016-17\", \"2017-18\", \"2018-19\", \"2019-20\", \"2020-21\", \"2021-22\", \"2022-23\", \"2023-24\", \"2024-25\"]\n",
        "\n",
        "#dropdown selector variables\n",
        "MonthCsv=str(Month)+'.csv'\n",
        "#print(MonthCsv)\n",
        "# Ignore warnings\n",
        "import warnings\n",
        "warnings.filterwarnings('ignore')\n",
        "\n",
        "# Handle table-like data and matrices\n",
        "import numpy as np\n",
        "import pandas as pd\n",
        "import math \n",
        "# Modelling Algorithms\n",
        "from sklearn import linear_model\n",
        "from sklearn import tree\n",
        "from sklearn import svm\n",
        "from sklearn.tree import DecisionTreeClassifier\n",
        "from sklearn.neural_network import MLPClassifier\n",
        "from sklearn.linear_model import LogisticRegression\n",
        "from sklearn.neighbors import KNeighborsClassifier\n",
        "from sklearn.naive_bayes import GaussianNB\n",
        "from sklearn.svm import SVC, LinearSVC\n",
        "from sklearn.ensemble import RandomForestClassifier , GradientBoostingClassifier\n",
        "from sklearn.metrics import accuracy_score\n",
        "#handle warnings tidily\n",
        "from sklearn.exceptions import DataConversionWarning\n",
        "warnings.filterwarnings(action='ignore', category=DataConversionWarning)\n",
        "# Modelling Helpers\n",
        "from sklearn.preprocessing import Imputer , Normalizer , scale\n",
        "from sklearn.model_selection import train_test_split\n",
        "from sklearn.feature_selection import RFECV\n",
        "\n",
        "# Visualisation\n",
        "import matplotlib as mpl\n",
        "import matplotlib.pyplot as plt\n",
        "import matplotlib.pylab as pylab\n",
        "import seaborn as sns\n",
        "\n",
        "# Configure visualisations\n",
        "%matplotlib inline\n",
        "mpl.style.use( 'ggplot' )\n",
        "sns.set_style( 'white' )\n",
        "pylab.rcParams[ 'figure.figsize' ] = 8 , 6\n",
        "\n",
        "train = pd.read_csv(MonthCsv)\n",
        "df = train\n",
        "\n",
        "#print value of prediction function\n",
        "    \n",
        "def printPred(year,pred):\n",
        "# + ' on: ' +str(Month)+'/'+str(year) +   \n",
        "  if(year == '2016-17' ):\n",
        "    print('Predicted Price for ' + str(Crop)  + ' is: ' +str(pred[0])+' Rs/-')  \n",
        "  elif(year == '2017-18'):\n",
        "    print('Predicted Price for ' + str(Crop)  + ' is: ' +str(pred[1])+' Rs/-')\n",
        "  elif(year == '2018-19'):\n",
        "    print('Predicted Price for ' + str(Crop)  + ' is: ' +str(pred[2])+' Rs/-')  \n",
        "  else:\n",
        "    print('Predicted Price for ' + str(Crop)  + ' is: ' +str(pred[3])+' Rs/-')\n",
        "  \n",
        "def calc_pred(Crop):\n",
        "    X = [0 , 1 , 2 , 3 , 4 , 5 , 6 , 7 , 8 , 9 , 10 , 11 ]\n",
        "    y = df.loc[ df.crop == Crop , \"_2004_05\" : \"_2015_16\" ].as_matrix()\n",
        "    X = np.array(X)\n",
        "    y = y.reshape(12 , 1)\n",
        "    X = X.reshape(12 , 1)\n",
        "    reg = svm.SVR(C=0.5 , epsilon=0.01)\n",
        "    reg.fit(X , y ) \n",
        "    X_test = [12 , 13 , 14 , 15 , 16 , 17 , 18 , 19 , 20 , 21 , 22 , 23 ]\n",
        "    X_test = np.array(X_test)\n",
        "    pred = reg.predict(X_test.reshape(12 , 1))\n",
        "    pred = pred.reshape(12 , 1)\n",
        "    temp = y.reshape(12 , 1)\n",
        "    rahul = []\n",
        "    for i in temp:\n",
        "        rahul.append(i)\n",
        "    for i in pred:\n",
        "        rahul.append(i)\n",
        "    rahul = np.array(rahul)\n",
        "    rahul = rahul.reshape(24,)\n",
        "    Years = [\n",
        "        \"2004-05\" , \"2005-06\" ,\"2006-07\" , \"2007-08\" , \"2008-09\" , \"2009-10\" , \"2010-11\" , \"2011-12\" , \"2012-13\" , \"2013-14\" , \"2014-15\" , \"2015-16\" , \"2016-17\" , \"2017-18\" , \"2018-19\" , \"2019-20\" , \"2020-21\" , \"2020-22\" , \"2022-23\" ,\n",
        "        \"2023-24\" , \"2024-25\" ,\"2025-26\" , \"2026-27\" , \"2027-28\" \n",
        "    ]\n",
        "    Years = np.array(Years)\n",
        "    d = { \"Years\" : Years , \"Prediction\" : rahul }\n",
        "    final = pd.DataFrame(d)\n",
        "    printPred(year,pred)\n",
        "#     fig, axes = plt.subplots(1,1)\n",
        "#     fig.set_size_inches(10, 10)\n",
        "#     sns.pointplot(data=final ,x = \"Years\" ,y = \"Prediction\", orient=\"v\" )\n",
        "#     fig.savefig(\"5.png\")\n",
        "#     final.to_csv( 'price_predictionCrop.csv' , index = False )\n",
        "#     print(pred)\n",
        "calc_pred(Crop)"
      ],
      "execution_count": 0,
      "outputs": [
        {
          "output_type": "stream",
          "text": [
            "Predicted Price for Rice is: [167.25921958] Rs/-\n"
          ],
          "name": "stdout"
        }
      ]
    }
  ]
}