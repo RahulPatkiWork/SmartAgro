{
  "nbformat": 4,
  "nbformat_minor": 0,
  "metadata": {
    "colab": {
      "name": "PredictionEngine.ipynb",
      "version": "0.3.2",
      "provenance": [],
      "collapsed_sections": []
    },
    "kernelspec": {
      "name": "python3",
      "display_name": "Python 3"
    }
  },
  "cells": [
    {
      "metadata": {
        "id": "ExtkJXnv0rFI",
        "colab_type": "text"
      },
      "cell_type": "markdown",
      "source": [
        "# Suggested Crop Price\n",
        "#सूचिबद्ध पीक किंमत\n",
        "---\n",
        "\n",
        "\n",
        "> *Select the crop and month for prediction and click the left button*\n",
        "\n",
        "\n",
        "> अंदाज करीता पीक आणि महिना निवडा आणि डावे बटण क्लिक करा\n",
        "\n",
        "---\n",
        "\n"
      ]
    },
    {
      "metadata": {
        "id": "v5syAv8v2fdY",
        "colab_type": "code",
        "cellView": "both",
        "outputId": "0359dce3-8c97-4d34-f82c-dec56cedf6f7",
        "colab": {
          "base_uri": "https://localhost:8080/",
          "height": 34
        }
      },
      "cell_type": "code",
      "source": [
        "Crop = 'Wheat' #@param [\"Rice\", \"Wheat\", \"Jowar\",\"Bajra\",\"Potato\",\"Onion\",\"Ginger\",\"Brinjal\",\"Cabbage\",\"Banana\",\"Orange\",\"Papaya\"] {allow-input: true}\n",
        "Month = 'Feb' #@param [\"Jan\", \"Feb\", \"Mar\",\"Apr\",\"May\",\"Jun\",\"Jul\",\"Aug\",\"Sep\",\"Oct\",\"Nov\",\"Dec\"]{allow-input: true}\n",
        "\n",
        "\n",
        "\n",
        "if Crop == 'Rice' and Month == 'Feb':\n",
        "    print(238.9)\n",
        "    #print('You selected', option2)\n",
        "elif Crop == 'Wheat' and Month == 'Feb':\n",
        "    print(228.6)\n",
        "else: \n",
        "    print(\"use your logic to print data\")\n",
        "\n",
        "\n",
        "\n",
        "\n",
        "\n",
        "\n",
        "\n",
        "\n",
        "\n",
        "\n",
        "\n",
        "\n",
        "\n",
        "\n",
        "\n",
        "\n",
        "\n"
      ],
      "execution_count": 0,
      "outputs": [
        {
          "output_type": "stream",
          "text": [
            "228.6\n"
          ],
          "name": "stdout"
        }
      ]
    },
    {
      "metadata": {
        "id": "dDKIxBUt5y6C",
        "colab_type": "code",
        "cellView": "both",
        "outputId": "7ec5a09a-9e06-44b4-dd1c-cd09c9f186dd",
        "colab": {
          "base_uri": "https://localhost:8080/",
          "height": 731
        }
      },
      "cell_type": "code",
      "source": [
        "#@title Prediction Model\n",
        "#@markdown *Click the left button to run regression code*\n",
        "\n",
        "\n",
        "\n",
        "import pandas as pd  \n",
        "import numpy as np  \n",
        "import matplotlib.pyplot as plt \n",
        "from sklearn import preprocessing\n",
        "from sklearn.model_selection import train_test_split\n",
        "from sklearn.metrics import accuracy_score\n",
        "from sklearn.metrics import confusion_matrix\n",
        "\n",
        "header_row=['Rice','Wheat','Jowar','Bajra','Potato','Onion','Ginger(Fresh)','Brinjal','Cabbage','Banana','Orange','Papaya']\n",
        "col=['Crops','2005','2006','2007','2008','2009','2010','2011','2012','2013','2014','2015','2016']\n",
        "weight=[1.79348, 1.11595, 0.09572, 0.11522, 0.2015, 0.17794, 0.04514, 0.2984, 0.18756, 0.34264, 0.13309, 0.1034]\n",
        "data = pd.read_csv('Feb.csv')\n",
        "data.columns=col\n",
        "data1=data.drop(['Crops','2016'],axis=1)\n",
        "x=data1\n",
        "y=data['2016']\n",
        "\n",
        "print (x)\n",
        "print (y)\n",
        "\n",
        "x_train,x_test,y_train,y_test=train_test_split(x,y,test_size=0.2,random_state=0)\n",
        "\n",
        "print (y_test)\n",
        "\n",
        "from sklearn.linear_model import LinearRegression\n",
        "from sklearn.linear_model import ElasticNet\n",
        "#regressor=LinearRegression()\n",
        "regressor = ElasticNet(alpha=0.3)\n",
        "regressor.fit(x_train,y_train)\n",
        "\n",
        "\n",
        "y_pred=regressor.predict(x_test)\n",
        "\n",
        "print (y_pred)\n",
        "\n",
        "\n"
      ],
      "execution_count": 0,
      "outputs": [
        {
          "output_type": "stream",
          "text": [
            "     2005   2006   2007   2008   2009   2010   2011   2012   2013   2014  \\\n",
            "0   101.1  119.4  134.8  139.0  152.3  179.4  177.1  170.1  207.2  220.9   \n",
            "1   101.0  115.6  130.9  150.3  155.1  176.8  213.0  250.8  237.3  259.1   \n",
            "2   105.1  113.5  125.0  125.8  148.6  173.7  176.5  199.9  257.5  252.9   \n",
            "3    72.0  103.9   84.8  114.1   88.5  121.5  108.3  105.9  159.0  171.3   \n",
            "4    94.5   85.9  189.5  114.0  230.4  247.8  260.6  133.8  377.8  273.9   \n",
            "5    77.8   47.2   37.2   61.9   87.8   93.9   92.2   60.1   99.0  187.7   \n",
            "6    92.1   98.2  107.8  138.7  113.3  134.4  127.9  191.5  172.5  133.3   \n",
            "7    68.5   85.0  107.9   98.8  125.8  113.0  167.1  201.6  168.3  176.2   \n",
            "8    96.2  108.1  113.1  119.2  128.0  171.3  149.9  167.8  220.2  248.4   \n",
            "9   112.5  109.8  138.5  111.8  136.6  160.1  191.3  241.9  197.2  200.2   \n",
            "10   83.3   93.4   88.5  129.2  128.4  153.2  209.1  128.6  133.1  139.3   \n",
            "\n",
            "     2015  \n",
            "0   215.6  \n",
            "1   288.3  \n",
            "2   240.0  \n",
            "3   162.4  \n",
            "4   345.0  \n",
            "5   168.7  \n",
            "6   185.0  \n",
            "7   315.6  \n",
            "8   281.8  \n",
            "9   234.7  \n",
            "10  142.4  \n",
            "0     228.6\n",
            "1     284.7\n",
            "2     283.6\n",
            "3     150.4\n",
            "4     309.8\n",
            "5     104.8\n",
            "6     201.4\n",
            "7     242.7\n",
            "8     261.6\n",
            "9     215.7\n",
            "10    145.0\n",
            "Name: 2016, dtype: float64\n",
            "4    309.8\n",
            "9    215.7\n",
            "2    283.6\n",
            "Name: 2016, dtype: float64\n",
            "[327.25805792 246.49409513 249.16703559]\n"
          ],
          "name": "stdout"
        }
      ]
    }
  ]
}