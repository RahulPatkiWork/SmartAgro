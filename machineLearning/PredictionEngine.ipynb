{
  "nbformat": 4,
  "nbformat_minor": 0,
  "metadata": {
    "colab": {
      "name": "PredictionEngine.ipynb",
      "version": "0.3.2",
      "provenance": [],
      "collapsed_sections": []
    },
    "kernelspec": {
      "name": "python3",
      "display_name": "Python 3"
    }
  },
  "cells": [
    {
      "metadata": {
        "id": "zSuzH1gZpPYO",
        "colab_type": "text"
      },
      "cell_type": "markdown",
      "source": [
        "# Optimal Crop Price Prediction \n",
        "\n",
        "\n",
        "---\n",
        "इष्टतम फसल मूल्य भविष्यवाणी\n",
        "\n",
        "\n",
        "---\n",
        "\n",
        "\n"
      ]
    },
    {
      "metadata": {
        "id": "Lw8FCrI5dQ1_",
        "colab_type": "code",
        "cellView": "form",
        "outputId": "f619b751-20bc-44ea-c743-e0eea5c01b83",
        "colab": {
          "base_uri": "https://localhost:8080/",
          "height": 59
        }
      },
      "cell_type": "code",
      "source": [
        "#@title Procedure (प्रक्रिया)\n",
        "%%html\n",
        "<marquee style='width: 100%; color: red;'><b>Login to your Gmail Account then Click the left button given below to load all input files and then select the crop,month and year for which you want to predict the price</b></marquee>\n",
        "<div>\n",
        "<marquee style='width: 100%; color: red;'><b>अपने Gmail खाते में लॉगिन करें और फिर सभी इनपुट फ़ाइलों को लोड करने के लिए नीचे दिए गए बाएं बटन पर क्लिक करें और फिर उस फसल, महीने और वर्ष का चयन करें जिसके लिए आप कीमत का अनुमान लगाना चाहते हैं</b></marquee>\n",
        "</div>"
      ],
      "execution_count": 0,
      "outputs": [
        {
          "output_type": "display_data",
          "data": {
            "text/html": [
              "<marquee style='width: 100%; color: red;'><b>Login to your Gmail Account then Click the left button given below to load all input files and then select the crop,month and year for which you want to predict the price</b></marquee>\n",
              "<div>\n",
              "<marquee style='width: 100%; color: red;'><b>अपने Gmail खाते में लॉगिन करें और फिर सभी इनपुट फ़ाइलों को लोड करने के लिए नीचे दिए गए बाएं बटन पर क्लिक करें और फिर उस फसल, महीने और वर्ष का चयन करें जिसके लिए आप कीमत का अनुमान लगाना चाहते हैं</b></marquee>\n",
              "</div>"
            ],
            "text/plain": [
              "<IPython.core.display.HTML object>"
            ]
          },
          "metadata": {
            "tags": []
          }
        }
      ]
    },
    {
      "metadata": {
        "colab_type": "code",
        "cellView": "form",
        "id": "5H0sWXe8Jn-Q",
        "colab": {}
      },
      "cell_type": "code",
      "source": [
        "\n",
        "#@markdown **Click the left button to load all required input files and enter 'A' if prompted **\n",
        "#@markdown *सभी आवश्यक इनपुट फ़ाइलों को लोड करने के लिए बाएं बटन पर क्लिक करें और यदि संकेत दिया जाए तो 'ए' दर्ज करें*\n",
        "#to download the required input files&images served remotely\n",
        "%%capture\n",
        "!pip install gdown;\n",
        "!gdown https://drive.google.com/uc?id=1ymojrXO_Xa2ny2mDCulch0Uov_ttz6g8;\n",
        "!unzip -j CSVFiles.zip\n",
        "\n",
        "'''\n",
        "USE uc instead of open;\n",
        "In gdrive share link with anyone can VIEW\n",
        "'''\n",
        "\n"
      ],
      "execution_count": 0,
      "outputs": []
    },
    {
      "metadata": {
        "colab_type": "text",
        "id": "Iu5Ur0FVP-q1"
      },
      "cell_type": "markdown",
      "source": [
        "# Select the inputs for price prediction\n",
        "\n",
        "---\n",
        "\n",
        "\n",
        " फसल, महीने और वर्ष का चयन करें, जिसके लिए आप कीमत का अनुमान लगाना चाहते हैं\n",
        "\n",
        "---\n",
        "\n"
      ]
    },
    {
      "metadata": {
        "id": "v5syAv8v2fdY",
        "colab_type": "code",
        "cellView": "form",
        "outputId": "7cb2b82d-ff0d-4478-a294-4a69f7b31a8b",
        "colab": {
          "base_uri": "https://localhost:8080/",
          "height": 51
        }
      },
      "cell_type": "code",
      "source": [
        "#@title \n",
        "\n",
        "Crop = 'Bajra' #@param [\"Rice\", \"Wheat\", \"Jowar\",\"Bajra\",\"Potato\",\"Onion\",\"Ginger\",\"Brinjal\",\"Cabbage\",\"Banana\",\"Orange\",\"Papaya\"] \n",
        "Month = \"May\" #@param [\"Jan\", \"Feb\", \"Mar\", \"Apr\", \"May\", \"Jun\", \"Jul\", \"Aug\", \"Sep\", \"Oct\", \"Nov\", \"Dec\"] \n",
        "Year = \"2019\" #@param [\"2017\", \"2018\", \"2019\", \"2020\", \"2021\"]\n",
        "year=int(Year)\n",
        "pred=[]\n",
        "if Month==\"Jan\":\n",
        "\tpred=[year,1,0,0,0,0,0,0,0,0,0,0,0]\n",
        "elif Month==\"Feb\":\n",
        "\tpred=[year,0,1,0,0,0,0,0,0,0,0,0,0]\n",
        "elif Month==\"Mar\":\n",
        "\tpred=[year,0,0,1,0,0,0,0,0,0,0,0,0]\n",
        "elif Month==\"Apr\":\n",
        "\tpred=[year,0,0,0,1,0,0,0,0,0,0,0,0]\n",
        "elif Month==\"May\":\n",
        "\tpred=[year,0,0,0,0,1,0,0,0,0,0,0,0]\n",
        "elif Month==\"Jun\":\n",
        "\tpred=[year,0,0,0,0,0,1,0,0,0,0,0,0]\n",
        "elif Month==\"Jul\":\n",
        "\tpred=[year,0,0,0,0,0,0,1,0,0,0,0,0]\n",
        "elif Month==\"Aug\":\n",
        "\tpred=[year,0,0,0,0,0,0,0,1,0,0,0,0]\n",
        "elif Month==\"Sep\":\n",
        "\tpred=[year,0,0,0,0,0,0,0,0,1,0,0,0]\n",
        "elif Month==\"Oct\":\n",
        "\tpred=[year,0,0,0,0,0,0,0,0,0,1,0,0]\n",
        "elif Month==\"Nov\":\n",
        "\tpred=[year,0,0,0,0,0,0,0,0,0,0,1,0]\n",
        "elif Month==\"Dec\":\n",
        "\tpred=[year,0,0,0,0,0,0,0,0,0,0,0,1]\n",
        "else:\n",
        "\tpass\n",
        "\n",
        "\n",
        "import pandas as pd\n",
        "filename=str(Crop)+'.csv'\n",
        "#print(filename)\n",
        "features = pd.read_csv(filename)\n",
        "\n",
        "features = pd.get_dummies(features)\n",
        "\n",
        "\n",
        "import numpy as np\n",
        "labels = np.array(features[Crop])\n",
        "features= features.drop(Crop, axis = 1)\n",
        "feature_list = list(features.columns)\n",
        "features = np.array(features)\n",
        "\n",
        "# Using Skicit-learn to split data into training and testing sets\n",
        "from sklearn.model_selection import train_test_split\n",
        "\n",
        "\n",
        "\n",
        "\n",
        "from sklearn.linear_model import ElasticNet\n",
        "\n",
        "# Instantiate model with 1000 decision trees\n",
        "rf =ElasticNet(alpha=0.3)\n",
        "\n",
        "\n",
        "# Train the model on training data\n",
        "#rf.fit(train_features, train_labels)\n",
        "rf.fit(features, labels)\n",
        "\n",
        "\n",
        "predictions =rf.predict([pred])\n",
        "finalPrice = str(round(predictions[0],2))\n",
        "#print(predictions[0])\n",
        "print('Predicted Price for ' + str(Crop)  +'\\nin '+str(Month)+'/'+str(Year)+' is=' +finalPrice+' Rs/-')  \n",
        "\n",
        "\n",
        "\n",
        "\n",
        "\n",
        "\n",
        "\n",
        "\n",
        "\n",
        "\n",
        "\n",
        "\n",
        "\n"
      ],
      "execution_count": 0,
      "outputs": [
        {
          "output_type": "stream",
          "text": [
            "Predicted Price for Bajra\n",
            "in May/2019 is=331.81 Rs/-\n"
          ],
          "name": "stdout"
        }
      ]
    }
  ]
}