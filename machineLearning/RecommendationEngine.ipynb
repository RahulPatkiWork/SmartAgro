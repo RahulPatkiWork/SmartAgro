{
  "nbformat": 4,
  "nbformat_minor": 0,
  "metadata": {
    "colab": {
      "name": "RecommendationEngine.ipynb",
      "version": "0.3.2",
      "provenance": [],
      "collapsed_sections": [
        "cQm5wwEZtR2S"
      ]
    },
    "kernelspec": {
      "name": "python3",
      "display_name": "Python 3"
    }
  },
  "cells": [
    {
      "metadata": {
        "id": "wKGA_0bCs8-y",
        "colab_type": "text"
      },
      "cell_type": "markdown",
      "source": [
        "# Recommendations for sellers\n",
        "#विक्रेत्यांसाठी शिफारसी\n",
        "<!-- ---\n",
        "\n",
        "\n",
        "> *Click the button below and enter the required support & confidence*\n",
        "\n",
        "\n",
        "> खालील बटणावर क्लिक करा आणि आवश्यक समर्थन आणि आत्मविश्वास प्रविष्ट करा\n",
        "\n",
        "--- -->\n",
        "\n",
        "\n",
        "\n"
      ]
    },
    {
      "metadata": {
        "id": "OIdTjOzss_Fl",
        "colab_type": "code",
        "cellView": "form",
        "outputId": "96c5af19-82f2-4a8e-b700-34b4b1b92937",
        "colab": {
          "base_uri": "https://localhost:8080/",
          "height": 443
        }
      },
      "cell_type": "code",
      "source": [
        "\n",
        "#@markdown *Click the left button to generate new recommendations*\n",
        "#@markdown *नवीन शिफारसी निर्माण करण्यासाठी डावे बटण क्लिक करा*\n",
        "\n",
        "import itertools\n",
        "#   This function generates the first candidate set using the dataset\n",
        "def generateC1(dataSet):\n",
        "    productDict = {}\n",
        "    returneSet = []\n",
        "    for data in dataSet:\n",
        "        for product in data:\n",
        "            if product not in productDict:\n",
        "               productDict[product] = 1\n",
        "            else:\n",
        "                 productDict[product] = productDict[product] + 1\n",
        "    for key in productDict:\n",
        "        tempArray = []\n",
        "        tempArray.append(key)\n",
        "        returneSet.append(tempArray)\n",
        "        returneSet.append(productDict[key])\n",
        "        tempArray = []\n",
        "    return returneSet\n",
        "\n",
        "#   This function creates Frequent item sets by taking candidate sets as input\n",
        "#   At the end, this function calls generateCandidatSets by feeding the output of the\n",
        "#   current function as the input of the other function\n",
        "def generateFrequentItemSet(CandidateList, noOfTransactions, minimumSupport, dataSet, fatherFrequentArray):\n",
        "    frequentItemsArray = []\n",
        "    for i in range(len(CandidateList)):\n",
        "        if i%2 != 0:\n",
        "            support = (CandidateList[i] * 1.0 / noOfTransactions) * 100\n",
        "            if support >= minimumSupport:\n",
        "                frequentItemsArray.append(CandidateList[i-1])\n",
        "                frequentItemsArray.append(CandidateList[i])\n",
        "            else:\n",
        "                eleminatedItemsArray.append(CandidateList[i-1])\n",
        "\n",
        "    for k in frequentItemsArray:\n",
        "        fatherFrequentArray.append(k)\n",
        "\n",
        "    if len(frequentItemsArray) == 2 or len(frequentItemsArray) == 0:\n",
        "        #print(\"This will be returned\")\n",
        "        returnArray = fatherFrequentArray\n",
        "        return returnArray\n",
        "\n",
        "    else:\n",
        "        generateCandidateSets(dataSet, eleminatedItemsArray, frequentItemsArray, noOfTransactions, minimumSupport)\n",
        "\n",
        "#   This function creates Candidate sets by taking frequent sets as the input\n",
        "#   At the end, this function calls generateFrequentItemSets by feeding the output of the\n",
        "#   crrent function as the input of the other function\n",
        "def generateCandidateSets(dataSet, eleminatedItemsArray, frequentItemsArray, noOfTransactions, minimumSupport):\n",
        "    onlyElements = []\n",
        "    arrayAfterCombinations = []\n",
        "    candidateSetArray = []\n",
        "    for i in range(len(frequentItemsArray)):\n",
        "        if i%2 == 0:\n",
        "            onlyElements.append(frequentItemsArray[i])\n",
        "    for item in onlyElements:\n",
        "        tempCombinationArray = []\n",
        "        k = onlyElements.index(item)\n",
        "        for i in range(k + 1, len(onlyElements)):\n",
        "            for j in item:\n",
        "                if j not in tempCombinationArray:\n",
        "                    tempCombinationArray.append(j)\n",
        "            for m in onlyElements[i]:\n",
        "                if m not in tempCombinationArray:\n",
        "                    tempCombinationArray.append(m)\n",
        "            arrayAfterCombinations.append(tempCombinationArray)\n",
        "            tempCombinationArray = []\n",
        "    sortedCombinationArray = []\n",
        "    uniqueCombinationArray = []\n",
        "    for i in arrayAfterCombinations:\n",
        "        sortedCombinationArray.append(sorted(i))\n",
        "    for i in sortedCombinationArray:\n",
        "        if i not in uniqueCombinationArray:\n",
        "            uniqueCombinationArray.append(i)\n",
        "    arrayAfterCombinations = uniqueCombinationArray\n",
        "    for item in arrayAfterCombinations:\n",
        "        count = 0\n",
        "        for transaction in dataSet:\n",
        "            if set(item).issubset(set(transaction)):\n",
        "                count = count + 1\n",
        "        if count != 0:\n",
        "            candidateSetArray.append(item)\n",
        "            candidateSetArray.append(count)\n",
        "    generateFrequentItemSet(candidateSetArray, noOfTransactions, minimumSupport, dataSet, fatherFrequentArray)\n",
        "\n",
        "#   This function takes all the frequent sets as the input and generates Association Rules\n",
        "def generateAssociationRule(freqSet):\n",
        "    associationRule = []\n",
        "    for item in freqSet:\n",
        "        if isinstance(item, list):\n",
        "            if len(item) != 0:\n",
        "                length = len(item) - 1\n",
        "                while length > 0:\n",
        "                    combinations = list(itertools.combinations(item, length))\n",
        "                    temp = []\n",
        "                    LHS = []\n",
        "                    for RHS in combinations:\n",
        "                        LHS = set(item) - set(RHS)\n",
        "                        temp.append(list(LHS))\n",
        "                        temp.append(list(RHS))\n",
        "                        #print(temp)\n",
        "                        associationRule.append(temp)\n",
        "                        temp = []\n",
        "                    length = length - 1\n",
        "    return associationRule\n",
        "\n",
        "#   This function creates the final output of the algorithm by taking Association Rules as the input\n",
        "def aprioriOutput(rules, dataSet, minimumSupport, minimumConfidence):\n",
        "    returnAprioriOutput = []\n",
        "    for rule in rules:\n",
        "        supportOfX = 0\n",
        "        supportOfXinPercentage = 0\n",
        "        supportOfXandY = 0\n",
        "        supportOfXandYinPercentage = 0\n",
        "        for transaction in dataSet:\n",
        "            if set(rule[0]).issubset(set(transaction)):\n",
        "                supportOfX = supportOfX + 1\n",
        "            if set(rule[0] + rule[1]).issubset(set(transaction)):\n",
        "                supportOfXandY = supportOfXandY + 1\n",
        "        supportOfXinPercentage = (supportOfX * 1.0 / noOfTransactions) * 100\n",
        "        supportOfXandYinPercentage = (supportOfXandY * 1.0 / noOfTransactions) * 100\n",
        "        confidence = (supportOfXandYinPercentage / supportOfXinPercentage) * 100\n",
        "        if confidence >= minimumConfidence:\n",
        "          #The below statements can be uncommented to get the output in the form:Support Of X: 72.0  Support Of X&Y: 82.0  Confidence: 72  ['Rajma']------>['Sugarcane']\n",
        "          #Further set \"counter = 4\" for the same!\n",
        "            #supportOfXAppendString = \"Support Of X: \" + str(round(supportOfXinPercentage, 2))\n",
        "            #supportOfXandYAppendString = \"Support of X & Y: \" + str(round(supportOfXandYinPercentage))\n",
        "            #confidenceAppendString = \"Confidence: \" + str(round(confidence))\n",
        "\n",
        "            #returnAprioriOutput.append(supportOfXAppendString)\n",
        "            #returnAprioriOutput.append(supportOfXandYAppendString)\n",
        "            #returnAprioriOutput.append(confidenceAppendString)\n",
        "            returnAprioriOutput.append(rule)\n",
        "\n",
        "    return returnAprioriOutput\n",
        "\n",
        "#   These few statements are taking input from the user \n",
        "#       Such as:\n",
        "#           Select a database to mine the data\n",
        "#           Minimum Support\n",
        "#           Mnimum Confidence\n",
        "# print(\"Select from the following dataset:\")\n",
        "# print(\"1. Crops\")\n",
        "# print(\"2. Farming Automobile Accessories\")\n",
        "# print(\"3. Other Farming Stuff\")\n",
        "# print(\"\\n\")\n",
        "##user defined file,minsup,conf--uncomment below\n",
        "#fileNameInput = input(\"Enter number (1,2,3): \")\n",
        "# minimumSupport = input('Enter minimum Support (base 10): ')\n",
        "# minimumConfidence = input('Enter minimum Confidence (base 10): ')\n",
        "minimumSupport = 50\n",
        "minimumConfidence = 60\n",
        "\n",
        "print(\"\\n\") \n",
        "#fileName = \"crops.txt\"\n",
        "\n",
        "# if fileNameInput == '1':\n",
        "#     fileName = \"crops.txt\"\n",
        "# if fileNameInput == '2':\n",
        "#     fileName = \"automobileStuff.txt\"\n",
        "# if fileNameInput == '3':\n",
        "#     fileName = \"otherStuff.txt\"\n",
        "\n",
        "\n",
        "\n",
        "minimumSupport = int(minimumSupport)\n",
        "minimumConfidence = int(minimumConfidence)\n",
        "\n",
        "nonFrequentSets = []\n",
        "allFrequentItemSets = []\n",
        "tempFrequentItemSets = []\n",
        "dataSet = []\n",
        "eleminatedItemsArray = []\n",
        "noOfTransactions = 0\n",
        "fatherFrequentArray = []\n",
        "something = 0\n",
        "\n",
        "\n",
        "# #   Reading the data file line by line\n",
        "# with open(fileName,'r') as fp:\n",
        "#     lines = fp.readlines()\n",
        "#Reading the data file from google drive\n",
        "with open('/gdrive/My Drive/crops.txt', 'r') as fp:\n",
        "  lines = fp.readlines()\n",
        "for line in lines:\n",
        "    line = line.rstrip()\n",
        "    dataSet.append(line.split(\",\"))\n",
        "\n",
        "noOfTransactions = len(dataSet)\n",
        "\n",
        "firstCandidateSet = generateC1(dataSet)\n",
        "\n",
        "frequentItemSet = generateFrequentItemSet(firstCandidateSet, noOfTransactions, minimumSupport, dataSet, fatherFrequentArray)\n",
        "\n",
        "associationRules = generateAssociationRule(fatherFrequentArray)\n",
        "\n",
        "AprioriOutput = aprioriOutput(associationRules, dataSet, minimumSupport, minimumConfidence)\n",
        "\n",
        "\n",
        "counter = 1\n",
        "if len(AprioriOutput) == 0:\n",
        "    print(\"There are no association rules for this support and confidence.\")\n",
        "else:\n",
        "    for i in AprioriOutput:\n",
        "        if counter == 1:\n",
        "            print(str(i[0]) + \" ---> \" + str(i[1]))\n",
        "            counter = 0\n",
        "        else:\n",
        "            print(i, end='  ')\n",
        "        counter = counter + 1\n",
        "#!python3 AprioriAlgorithm.py -f crops.txt\n",
        "#!python3 AprioriAlgorithm.py\n",
        "\n"
      ],
      "execution_count": 0,
      "outputs": [
        {
          "output_type": "stream",
          "text": [
            "\n",
            "\n",
            "['Lal Imli Wheat'] ---> ['Cabbage']\n",
            "['Cabbage'] ---> ['Lal Imli Wheat']\n",
            "['Rice'] ---> ['Cabbage']\n",
            "['Cabbage'] ---> ['Rice']\n",
            "['Rice'] ---> ['Lal Imli Wheat']\n",
            "['Lal Imli Wheat'] ---> ['Rice']\n",
            "['Potato'] ---> ['Lal Imli Wheat']\n",
            "['Lal Imli Wheat'] ---> ['Potato']\n",
            "['Mp Sortex Wheat'] ---> ['Bajra']\n",
            "['Bajra'] ---> ['Mp Sortex Wheat']\n",
            "['Rice'] ---> ['Bajra']\n",
            "['Bajra'] ---> ['Rice']\n",
            "['Mp Sortex Wheat'] ---> ['Ginger']\n",
            "['Ginger'] ---> ['Mp Sortex Wheat']\n",
            "['Rice'] ---> ['Mp Sortex Wheat']\n",
            "['Mp Sortex Wheat'] ---> ['Rice']\n",
            "['Rice'] ---> ['Brinjal']\n",
            "['Brinjal'] ---> ['Rice']\n",
            "['Rice'] ---> ['Potato']\n",
            "['Potato'] ---> ['Rice']\n",
            "['Potato'] ---> ['Brinjal']\n",
            "['Brinjal'] ---> ['Potato']\n"
          ],
          "name": "stdout"
        }
      ]
    },
    {
      "metadata": {
        "id": "FT2yNpyx4S63",
        "colab_type": "code",
        "cellView": "form",
        "outputId": "9dfd802b-523a-4414-af53-3bf1750e1a54",
        "colab": {
          "base_uri": "https://localhost:8080/",
          "height": 58
        }
      },
      "cell_type": "code",
      "source": [
        "#@title Warning! (चेतावणी!)\n",
        "%%html\n",
        "<marquee style='width: 100%; color: red;'><b>Above recommendations are Trend Based !</b></marquee>\n",
        "\n",
        "<marquee style='width: 100%; color: red;'><b>वरील शिफारसी ट्रेंड आधारित शिफारसी आहेत!</b></marquee>"
      ],
      "execution_count": 0,
      "outputs": [
        {
          "output_type": "display_data",
          "data": {
            "text/html": [
              "<marquee style='width: 100%; color: red;'><b>Above recommendations are Trend Based !</b></marquee>\n",
              "\n",
              "<marquee style='width: 100%; color: red;'><b>वरील शिफारसी ट्रेंड आधारित शिफारसी आहेत!</b></marquee>"
            ],
            "text/plain": [
              "<IPython.core.display.HTML object>"
            ]
          },
          "metadata": {
            "tags": []
          }
        }
      ]
    },
    {
      "metadata": {
        "id": "ZVS3GTaCtLP6",
        "colab_type": "text"
      },
      "cell_type": "markdown",
      "source": [
        "#Explanation \n",
        "# शिफारसी नियमांचे स्पष्टीकरण\n",
        "\n",
        "\n",
        "\n",
        "---\n",
        "\n",
        "\n",
        "English:\n",
        "> ['Wheat']------>['Rice']\n",
        "\n",
        "> The above rule means, crops at the left hand side of    \"------>\" are crops that are currently grown by farmers while crops on the right hand side of \"------>\" are recommended crops to the farmers.\n",
        "\n",
        "\n",
        "\n",
        "\n",
        "> Thus according to above rule if you grow 'wheat' currently then you can grow 'rice' as there is high demand for rice with wheat.\n",
        "\n",
        "\n",
        "\n",
        "\n",
        "\n",
        "---\n",
        "Marathi:\n",
        "\n",
        "> ['गहू'] ------> ['तांदूळ']\n",
        "\n",
        "> वरील नियम म्हणजे, \"------>\" च्या डाव्या बाजूकडील पिके म्हणजे सध्या शेतकर्यांद्वारे उगवलेली पिके आहेत तर \"------>\" च्या उजवीकडील पिके म्हणजे शिफारस केलेली पिके आहेत.\n",
        "\n",
        "\n",
        "\n",
        "> अशा प्रकारे वरील नियमानुसार आपण सध्या गव्हाचे पीक घेतले तर आपण तांदूळ पेरू शकता कारण गव्हासह तांदूळांची जास्त मागणी आहे.\n",
        "\n",
        "\n",
        "\n",
        "\n",
        "\n",
        "---\n",
        "\n",
        "\n"
      ]
    },
    {
      "metadata": {
        "id": "M2I0izGbuTml",
        "colab_type": "text"
      },
      "cell_type": "markdown",
      "source": [
        "# Video Recommendations\n",
        "# व्हिडिओ शिफारसी"
      ]
    },
    {
      "metadata": {
        "id": "6FG4dmMvxXJt",
        "colab_type": "code",
        "cellView": "form",
        "outputId": "ed711c40-2d81-472f-c3c8-15639fdd207f",
        "colab": {
          "base_uri": "https://localhost:8080/",
          "height": 58
        }
      },
      "cell_type": "code",
      "source": [
        "#@title Best Practices(सर्वोत्तम अभ्यास)\n",
        "\n",
        "%%html\n",
        "\n",
        "\n",
        "\n",
        "<marquee style='width: 100%; color: blue;'><b>Get video recommendations and best practices from peer farmers!</b></marquee>\n",
        "\n",
        "<marquee style='width: 100%; color: blue;'><b>सहकारी शेतकर्यां कडून व्हिडिओ शिफारसी आणि सर्वोत्तम पद्धती मिळवा!</b></marquee>"
      ],
      "execution_count": 0,
      "outputs": [
        {
          "output_type": "display_data",
          "data": {
            "text/html": [
              "\n",
              "\n",
              "\n",
              "<marquee style='width: 100%; color: blue;'><b>Get video recommendations and best practices from peer farmers!</b></marquee>\n",
              "\n",
              "<marquee style='width: 100%; color: blue;'><b>सहकारी शेतकर्यां कडून व्हिडिओ शिफारसी आणि सर्वोत्तम पद्धती मिळवा!</b></marquee>"
            ],
            "text/plain": [
              "<IPython.core.display.HTML object>"
            ]
          },
          "metadata": {
            "tags": []
          }
        }
      ]
    },
    {
      "metadata": {
        "id": "pJHmPTJGuZlc",
        "colab_type": "code",
        "cellView": "form",
        "outputId": "b13ac73f-7356-4f67-dd7a-c21969bc5249",
        "colab": {
          "base_uri": "https://localhost:8080/",
          "height": 221
        }
      },
      "cell_type": "code",
      "source": [
        "#@markdown This video gives Best farming tips for more production of wheat crop:\n",
        "#@markdown हा व्हिडिओ गहू पिकाच्या अधिक उत्पादनासाठी उत्तम शेतीविषयक टीपा देते:\n",
        "from IPython.display import YouTubeVideo\n",
        "YouTubeVideo('_ULc_pkwMPA', width=300, height=200)\n"
      ],
      "execution_count": 0,
      "outputs": [
        {
          "output_type": "execute_result",
          "data": {
            "text/html": [
              "\n",
              "        <iframe\n",
              "            width=\"300\"\n",
              "            height=\"200\"\n",
              "            src=\"https://www.youtube.com/embed/_ULc_pkwMPA\"\n",
              "            frameborder=\"0\"\n",
              "            allowfullscreen\n",
              "        ></iframe>\n",
              "        "
            ],
            "text/plain": [
              "<IPython.lib.display.YouTubeVideo at 0x7fe4cbb7b1d0>"
            ],
            "image/jpeg": "[encoded data removed]"
          },
          "metadata": {
            "tags": []
          },
          "execution_count": 50
        }
      ]
    },
    {
      "metadata": {
        "id": "cQm5wwEZtR2S",
        "colab_type": "text"
      },
      "cell_type": "markdown",
      "source": [
        "#Rule Generation simple:\n",
        "Following is apriori that requires no input from user side but transaction data collection is listed.\n",
        "\n"
      ]
    },
    {
      "metadata": {
        "id": "-KT0Q4i30WxB",
        "colab_type": "code",
        "outputId": "d36bebf4-3b46-41fb-8fbf-637334735bbd",
        "colab": {
          "base_uri": "https://localhost:8080/",
          "height": 54
        }
      },
      "cell_type": "code",
      "source": [
        "# Install the PyDrive wrapper & import libraries.\n",
        "# This only needs to be done once in a notebook.\n",
        "!pip install -U -q PyDrive\n",
        "from pydrive.auth import GoogleAuth\n",
        "from pydrive.drive import GoogleDrive\n",
        "from google.colab import auth\n",
        "from oauth2client.client import GoogleCredentials\n",
        "\n",
        "# Authenticate and create the PyDrive client.\n",
        "# This only needs to be done once in a notebook.\n",
        "auth.authenticate_user()\n",
        "gauth = GoogleAuth()\n",
        "gauth.credentials = GoogleCredentials.get_application_default()\n",
        "drive = GoogleDrive(gauth)\n",
        "\n",
        "#Mount Google Drive\n",
        "from google.colab import drive\n",
        "drive.mount('/gdrive')"
      ],
      "execution_count": 0,
      "outputs": [
        {
          "output_type": "stream",
          "text": [
            "Drive already mounted at /gdrive; to attempt to forcibly remount, call drive.mount(\"/gdrive\", force_remount=True).\n"
          ],
          "name": "stdout"
        }
      ]
    },
    {
      "metadata": {
        "id": "p3Bj4gmHtN11",
        "colab_type": "code",
        "outputId": "676174e3-ce0b-4ed6-bd2e-ade518d00585",
        "colab": {
          "base_uri": "https://localhost:8080/",
          "height": 161
        }
      },
      "cell_type": "code",
      "source": [
        "!pip install efficient-apriori\n",
        "#docs:https://buildmedia.readthedocs.org/media/pdf/efficient-apriori/latest/efficient-apriori.pdf\n",
        "from efficient_apriori import apriori\n",
        "transactions = [('eggs', 'bacon', 'soup'),\n",
        "                ('eggs', 'bacon', 'apple'),\n",
        "                ('soup', 'bacon', 'banana')]\n",
        "itemsets, rules = apriori(transactions, min_support=0.2,  min_confidence=1)\n",
        "\n",
        "#simple rule print\n",
        "print(rules)\n",
        "# Print out every rule with 2 items on the left hand side,\n",
        "# 1 item on the right hand side, sorted by lift\n",
        "rules_rhs = filter(lambda rule: len(rule.lhs) == 2 and len(rule.rhs) == 1, rules)\n",
        "for rule in sorted(rules_rhs, key=lambda rule: rule.lift):\n",
        "  print(rule) # Prints the rule and its confidence, support, lift, ...\n",
        " "
      ],
      "execution_count": 0,
      "outputs": [
        {
          "output_type": "stream",
          "text": [
            "Requirement already satisfied: efficient-apriori in /usr/local/lib/python3.6/dist-packages (0.4.5)\n",
            "[{apple} -> {bacon}, {apple} -> {eggs}, {banana} -> {bacon}, {eggs} -> {bacon}, {soup} -> {bacon}, {banana} -> {soup}, {apple, eggs} -> {bacon}, {apple, bacon} -> {eggs}, {apple} -> {bacon, eggs}, {banana, soup} -> {bacon}, {bacon, banana} -> {soup}, {banana} -> {bacon, soup}, {eggs, soup} -> {bacon}]\n",
            "{apple, eggs} -> {bacon} (conf: 1.000, supp: 0.333, lift: 1.000, conv: 0.000)\n",
            "{banana, soup} -> {bacon} (conf: 1.000, supp: 0.333, lift: 1.000, conv: 0.000)\n",
            "{eggs, soup} -> {bacon} (conf: 1.000, supp: 0.333, lift: 1.000, conv: 0.000)\n",
            "{apple, bacon} -> {eggs} (conf: 1.000, supp: 0.333, lift: 1.500, conv: 333333333.333)\n",
            "{bacon, banana} -> {soup} (conf: 1.000, supp: 0.333, lift: 1.500, conv: 333333333.333)\n"
          ],
          "name": "stdout"
        }
      ]
    },
    {
      "metadata": {
        "id": "qby5hHm_ykjv",
        "colab_type": "code",
        "colab": {}
      },
      "cell_type": "code",
      "source": [
        ""
      ],
      "execution_count": 0,
      "outputs": []
    }
  ]
}